{
 "cells": [
  {
   "cell_type": "markdown",
   "id": "0e320a9c",
   "metadata": {},
   "source": [
    "This notebook aims to visualize `bar charts (horizontal)` using synthetic datasets."
   ]
  },
  {
   "cell_type": "code",
   "execution_count": 1,
   "id": "d61c0c2c",
   "metadata": {
    "ExecuteTime": {
     "end_time": "2025-02-16T11:16:10.546885Z",
     "start_time": "2025-02-16T11:16:09.556450Z"
    }
   },
   "outputs": [],
   "source": [
    "import matplotlib.pyplot as plt\n",
    "import seaborn as sns \n",
    "import pandas as pd\n",
    "import numpy as np\n",
    "import matplotlib\n",
    "import warnings\n",
    "\n",
    "warnings.filterwarnings('ignore', category=FutureWarning)"
   ]
  },
  {
   "cell_type": "markdown",
   "id": "95481337",
   "metadata": {},
   "source": [
    "Here are the versions of the libraries I am using:"
   ]
  },
  {
   "cell_type": "code",
   "execution_count": 2,
   "id": "05b415c2",
   "metadata": {
    "ExecuteTime": {
     "end_time": "2025-02-16T11:16:12.335851Z",
     "start_time": "2025-02-16T11:16:12.332505Z"
    }
   },
   "outputs": [
    {
     "name": "stdout",
     "output_type": "stream",
     "text": [
      "Pandas Version: 2.2.2 \n",
      "Numpy Version: 1.24.3 \n",
      "Seaborn Version: 0.12.2 \n",
      "Matplotlib Version: 3.8.4\n"
     ]
    }
   ],
   "source": [
    "print('Pandas Version:', pd.__version__, \n",
    "      '\\nNumpy Version:', np.__version__, \n",
    "      '\\nSeaborn Version:', sns.__version__,\n",
    "      '\\nMatplotlib Version:', matplotlib.__version__)"
   ]
  },
  {
   "cell_type": "markdown",
   "id": "0c2655a6",
   "metadata": {},
   "source": [
    "Let's create a DataFrame with two columns: `Groups` and `Values`. Each group is associated with a specific value."
   ]
  },
  {
   "cell_type": "code",
   "execution_count": 3,
   "id": "51e64fd7",
   "metadata": {
    "ExecuteTime": {
     "end_time": "2025-02-16T11:16:13.995683Z",
     "start_time": "2025-02-16T11:16:13.986467Z"
    }
   },
   "outputs": [
    {
     "data": {
      "text/html": [
       "<div>\n",
       "<style scoped>\n",
       "    .dataframe tbody tr th:only-of-type {\n",
       "        vertical-align: middle;\n",
       "    }\n",
       "\n",
       "    .dataframe tbody tr th {\n",
       "        vertical-align: top;\n",
       "    }\n",
       "\n",
       "    .dataframe thead th {\n",
       "        text-align: right;\n",
       "    }\n",
       "</style>\n",
       "<table border=\"1\" class=\"dataframe\">\n",
       "  <thead>\n",
       "    <tr style=\"text-align: right;\">\n",
       "      <th></th>\n",
       "      <th>Groups</th>\n",
       "      <th>Values</th>\n",
       "    </tr>\n",
       "  </thead>\n",
       "  <tbody>\n",
       "    <tr>\n",
       "      <th>0</th>\n",
       "      <td>A</td>\n",
       "      <td>12345</td>\n",
       "    </tr>\n",
       "    <tr>\n",
       "      <th>1</th>\n",
       "      <td>B</td>\n",
       "      <td>26555</td>\n",
       "    </tr>\n",
       "    <tr>\n",
       "      <th>2</th>\n",
       "      <td>C</td>\n",
       "      <td>1113</td>\n",
       "    </tr>\n",
       "    <tr>\n",
       "      <th>3</th>\n",
       "      <td>D</td>\n",
       "      <td>4234</td>\n",
       "    </tr>\n",
       "  </tbody>\n",
       "</table>\n",
       "</div>"
      ],
      "text/plain": [
       "  Groups  Values\n",
       "0      A   12345\n",
       "1      B   26555\n",
       "2      C    1113\n",
       "3      D    4234"
      ]
     },
     "execution_count": 3,
     "metadata": {},
     "output_type": "execute_result"
    }
   ],
   "source": [
    "# Create the DataFrame\n",
    "df = pd.DataFrame({\n",
    "    'Groups': ['A', 'B', 'C', 'D'],\n",
    "    'Values': [12345, 26555, 1113, 4234]\n",
    "})\n",
    "\n",
    "df # Display the DataFrame"
   ]
  },
  {
   "cell_type": "markdown",
   "id": "6e6a79bb",
   "metadata": {},
   "source": [
    "To display the bars in descending order, let's sort the `Values` before visualization."
   ]
  },
  {
   "cell_type": "code",
   "execution_count": 4,
   "id": "6054cd95",
   "metadata": {
    "ExecuteTime": {
     "end_time": "2025-02-16T11:16:15.625580Z",
     "start_time": "2025-02-16T11:16:15.622369Z"
    }
   },
   "outputs": [],
   "source": [
    "df.sort_values(by=['Values'], ascending=False, inplace=True)"
   ]
  },
  {
   "cell_type": "markdown",
   "id": "80c68825",
   "metadata": {},
   "source": [
    "Let's create a bar chart!"
   ]
  },
  {
   "cell_type": "code",
   "execution_count": 5,
   "id": "44e4ce0f",
   "metadata": {
    "ExecuteTime": {
     "end_time": "2025-02-16T11:16:17.840582Z",
     "start_time": "2025-02-16T11:16:17.705781Z"
    }
   },
   "outputs": [
    {
     "data": {
      "image/png": "[encoded data removed]",
      "text/plain": [
       "<Figure size 1200x400 with 1 Axes>"
      ]
     },
     "metadata": {},
     "output_type": "display_data"
    }
   ],
   "source": [
    "# Set Seaborn style for better aesthetics\n",
    "sns.set(style=\"ticks\")\n",
    "\n",
    "# Create figure and axis for horizontal bar chart\n",
    "plt.figure(figsize=(12, 4))\n",
    "ax = sns.barplot(x='Values', y='Groups', data=df, color='#174496')\n",
    "\n",
    "# Add value labels to bars\n",
    "for index, (group, value) in enumerate(zip(df['Groups'], df['Values'])):\n",
    "    # Display numerical value on the right end of each bar\n",
    "    num_val_lab = f'{value:,}'.replace(',', '.')\n",
    "    ax.text(value + 200, index + 0.1, num_val_lab, \n",
    "            va='center', fontweight='bold')\n",
    "    \n",
    "    # Display group names with a highlighted background for visibility\n",
    "    ax.text(value + 500, index - 0.2, group, va='center', ha='center', \n",
    "            color='white', fontsize=10, fontweight='bold', \n",
    "            bbox=dict(facecolor='black', alpha=0.7, edgecolor='none', pad=3))\n",
    "\n",
    "# Set axis labels and chart title\n",
    "plt.xlabel('Values')\n",
    "plt.title('Horizontal Bar Chart', fontsize=12, weight='bold', pad=10)\n",
    "\n",
    "# Add reference vertical lines\n",
    "for vline in [5000, 15000, 25000]:\n",
    "    ax.axvline(x=vline, linestyle='--', color='gray', alpha=0.7)\n",
    "\n",
    "# Remove y-axis ticks and labels\n",
    "ax.set(yticks=[])\n",
    "\n",
    "# Set x-axis limits dynamically based on the data\n",
    "plt.xlim(0, df.Values.max() + df.Values.max() / 10)\n",
    "\n",
    "# Show plot\n",
    "plt.show()"
   ]
  },
  {
   "cell_type": "code",
   "execution_count": null,
   "id": "438f9e0d",
   "metadata": {},
   "outputs": [],
   "source": []
  }
 ],
 "metadata": {
  "hide_input": false,
  "kernelspec": {
   "display_name": "analitik-crm",
   "language": "python",
   "name": "analitik-crm"
  },
  "language_info": {
   "codemirror_mode": {
    "name": "ipython",
    "version": 3
   },
   "file_extension": ".py",
   "mimetype": "text/x-python",
   "name": "python",
   "nbconvert_exporter": "python",
   "pygments_lexer": "ipython3",
   "version": "3.9.16"
  },
  "toc": {
   "base_numbering": 1,
   "nav_menu": {},
   "number_sections": true,
   "sideBar": true,
   "skip_h1_title": false,
   "title_cell": "Table of Contents",
   "title_sidebar": "Contents",
   "toc_cell": false,
   "toc_position": {},
   "toc_section_display": true,
   "toc_window_display": false
  },
  "varInspector": {
   "cols": {
    "lenName": 16,
    "lenType": 16,
    "lenVar": 40
   },
   "kernels_config": {
    "python": {
     "delete_cmd_postfix": "",
     "delete_cmd_prefix": "del ",
     "library": "var_list.py",
     "varRefreshCmd": "print(var_dic_list())"
    },
    "r": {
     "delete_cmd_postfix": ") ",
     "delete_cmd_prefix": "rm(",
     "library": "var_list.r",
     "varRefreshCmd": "cat(var_dic_list()) "
    }
   },
   "types_to_exclude": [
    "module",
    "function",
    "builtin_function_or_method",
    "instance",
    "_Feature"
   ],
   "window_display": false
  }
 },
 "nbformat": 4,
 "nbformat_minor": 5
}
